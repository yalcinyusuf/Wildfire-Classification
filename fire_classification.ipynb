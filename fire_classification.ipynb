{
 "cells": [
  {
   "cell_type": "code",
   "execution_count": 3,
   "metadata": {},
   "outputs": [],
   "source": [
    "import tensorflow as tf\n",
    "from keras_preprocessing.image import ImageDataGenerator"
   ]
  },
  {
   "cell_type": "code",
   "execution_count": 4,
   "metadata": {},
   "outputs": [],
   "source": [
    "training_dir = \"dataset/Training\"\n",
    "validation_dir = \"dataset/Validation\"\n",
    "input_shape = (224,224,3)"
   ]
  },
  {
   "cell_type": "markdown",
   "metadata": {},
   "source": [
    "### Veri artırma teknikleri"
   ]
  },
  {
   "cell_type": "code",
   "execution_count": 3,
   "metadata": {},
   "outputs": [
    {
     "name": "stdout",
     "output_type": "stream",
     "text": [
      "Found 980 images belonging to 2 classes.\n",
      "Found 239 images belonging to 2 classes.\n"
     ]
    }
   ],
   "source": [
    "validation_datagen = ImageDataGenerator(rescale = 1./255)\n",
    "\n",
    "training_datagen = ImageDataGenerator(rescale = 1./255,\n",
    "                                      horizontal_flip=True,\n",
    "                                      rotation_range=30,\n",
    "                                      height_shift_range=0.2,\n",
    "                                      fill_mode='nearest')\n",
    "\n",
    "train_generator = training_datagen.flow_from_directory(training_dir,\n",
    "                                                       target_size=(224,224),\n",
    "                                                       class_mode='categorical',\n",
    "                                                       batch_size = 64)\n",
    "\n",
    "validation_generator = validation_datagen.flow_from_directory(validation_dir,\n",
    "                                                              target_size=(224,224),\n",
    "                                                              class_mode='categorical',\n",
    "                                                              batch_size= 16)\n"
   ]
  },
  {
   "cell_type": "code",
   "execution_count": 4,
   "metadata": {},
   "outputs": [],
   "source": [
    "import keras\n",
    "from keras import layers\n",
    "from tensorflow.keras.optimizers import Adam\n",
    "#Adam dogrudan parametreli bir şekilde kullanabilmek için yukarıdakini çağırdım.\n",
    "def fireNet(input_shape):\n",
    "    #Conv2D ilk parametre tensor boyutu\n",
    "    #Conv'da bu model için ilk tensor boyutunu küçük yaptım sonra artırdım,Dense'te tam tersi.\n",
    "    #2 çıktım olacağı için en son Dense katmanını 2'ye düşürdüm.\n",
    "    #Sequential liste biçiminde modele veriyorum.\n",
    "    #layers.Dropout rastgele bağlantıları koparıp modeli iyileştirmeye çalışıyor.\n",
    "    model = keras.models.Sequential([ layers.Conv2D(96, (11,11), strides=(4,4), activation=\"relu\", input_shape = input_shape),\n",
    "                                      layers.MaxPooling2D(pool_size=(3,3), strides=(2,2)),\n",
    "                                      \n",
    "                                      layers.Conv2D(256, (5,5), activation=\"relu\"),\n",
    "                                      layers.MaxPooling2D(pool_size=(3,3), strides=(2,2)),\n",
    "                                      \n",
    "                                      layers.Conv2D(384, (5,5), activation=\"relu\"),\n",
    "                                      layers.MaxPooling2D(pool_size=(3,3), strides=(2,2)),\n",
    "                                    \n",
    "                                      layers.Flatten(),\n",
    "                                      layers.Dropout(0.3),\n",
    "                                     \n",
    "                                      layers.Dense(2048, activation=\"relu\"),\n",
    "                                      layers.Dropout(0.3),\n",
    "                                     \n",
    "                                      layers.Dense(1024, activation=\"relu\"),\n",
    "                                      layers.Dropout(0.3),\n",
    "                                     \n",
    "                                      layers.Dense(2, activation=\"softmax\")\n",
    "                                     ])\n",
    "    \n",
    "    model.compile(loss = \"categorical_crossentropy\",\n",
    "                  optimizer = Adam(lr = 1e-4),\n",
    "                  metrics = [\"acc\"])\n",
    "    \n",
    "    return model"
   ]
  },
  {
   "cell_type": "code",
   "execution_count": 5,
   "metadata": {},
   "outputs": [
    {
     "name": "stdout",
     "output_type": "stream",
     "text": [
      "Model: \"sequential\"\n",
      "_________________________________________________________________\n",
      "Layer (type)                 Output Shape              Param #   \n",
      "=================================================================\n",
      "conv2d (Conv2D)              (None, 54, 54, 96)        34944     \n",
      "_________________________________________________________________\n",
      "max_pooling2d (MaxPooling2D) (None, 26, 26, 96)        0         \n",
      "_________________________________________________________________\n",
      "conv2d_1 (Conv2D)            (None, 22, 22, 256)       614656    \n",
      "_________________________________________________________________\n",
      "max_pooling2d_1 (MaxPooling2 (None, 10, 10, 256)       0         \n",
      "_________________________________________________________________\n",
      "conv2d_2 (Conv2D)            (None, 6, 6, 384)         2457984   \n",
      "_________________________________________________________________\n",
      "max_pooling2d_2 (MaxPooling2 (None, 2, 2, 384)         0         \n",
      "_________________________________________________________________\n",
      "flatten (Flatten)            (None, 1536)              0         \n",
      "_________________________________________________________________\n",
      "dropout (Dropout)            (None, 1536)              0         \n",
      "_________________________________________________________________\n",
      "dense (Dense)                (None, 2048)              3147776   \n",
      "_________________________________________________________________\n",
      "dropout_1 (Dropout)          (None, 2048)              0         \n",
      "_________________________________________________________________\n",
      "dense_1 (Dense)              (None, 1024)              2098176   \n",
      "_________________________________________________________________\n",
      "dropout_2 (Dropout)          (None, 1024)              0         \n",
      "_________________________________________________________________\n",
      "dense_2 (Dense)              (None, 2)                 2050      \n",
      "=================================================================\n",
      "Total params: 8,355,586\n",
      "Trainable params: 8,355,586\n",
      "Non-trainable params: 0\n",
      "_________________________________________________________________\n"
     ]
    },
    {
     "name": "stderr",
     "output_type": "stream",
     "text": [
      "C:\\Users\\yusuf\\anaconda3\\lib\\site-packages\\keras\\optimizer_v2\\optimizer_v2.py:355: UserWarning: The `lr` argument is deprecated, use `learning_rate` instead.\n",
      "  warnings.warn(\n"
     ]
    }
   ],
   "source": [
    "model = fireNet(input_shape)\n",
    "model.summary()"
   ]
  },
  {
   "cell_type": "code",
   "execution_count": 6,
   "metadata": {},
   "outputs": [
    {
     "name": "stdout",
     "output_type": "stream",
     "text": [
      "Epoch 1/50\n",
      "15/15 [==============================] - 49s 3s/step - loss: 0.5443 - acc: 0.7096 - val_loss: 0.3861 - val_acc: 0.8745\n",
      "Epoch 2/50\n",
      "15/15 [==============================] - 41s 3s/step - loss: 0.3550 - acc: 0.8504 - val_loss: 0.3248 - val_acc: 0.8912\n",
      "Epoch 3/50\n",
      "15/15 [==============================] - 40s 3s/step - loss: 0.3329 - acc: 0.8679 - val_loss: 0.3054 - val_acc: 0.8745\n",
      "Epoch 4/50\n",
      "15/15 [==============================] - 40s 3s/step - loss: 0.2621 - acc: 0.9017 - val_loss: 0.2336 - val_acc: 0.9247\n",
      "Epoch 5/50\n",
      "15/15 [==============================] - 40s 3s/step - loss: 0.2208 - acc: 0.9225 - val_loss: 0.2159 - val_acc: 0.9331\n",
      "Epoch 6/50\n",
      "15/15 [==============================] - 41s 3s/step - loss: 0.2192 - acc: 0.9208 - val_loss: 0.2186 - val_acc: 0.9331\n",
      "Epoch 7/50\n",
      "15/15 [==============================] - 39s 3s/step - loss: 0.2127 - acc: 0.9258 - val_loss: 0.2263 - val_acc: 0.9289\n",
      "Epoch 8/50\n",
      "15/15 [==============================] - 40s 3s/step - loss: 0.2106 - acc: 0.9279 - val_loss: 0.2448 - val_acc: 0.9205\n",
      "Epoch 9/50\n",
      "15/15 [==============================] - 40s 3s/step - loss: 0.1863 - acc: 0.9258 - val_loss: 0.2142 - val_acc: 0.9372\n",
      "Epoch 10/50\n",
      "15/15 [==============================] - 39s 3s/step - loss: 0.1924 - acc: 0.9279 - val_loss: 0.2087 - val_acc: 0.9540\n",
      "Epoch 11/50\n",
      "15/15 [==============================] - 40s 3s/step - loss: 0.2167 - acc: 0.9225 - val_loss: 0.1930 - val_acc: 0.9372\n",
      "Epoch 12/50\n",
      "15/15 [==============================] - 39s 3s/step - loss: 0.2031 - acc: 0.9170 - val_loss: 0.1829 - val_acc: 0.9414\n",
      "Epoch 13/50\n",
      "15/15 [==============================] - 39s 3s/step - loss: 0.1836 - acc: 0.9443 - val_loss: 0.1846 - val_acc: 0.9414\n",
      "Epoch 14/50\n",
      "15/15 [==============================] - 40s 3s/step - loss: 0.2229 - acc: 0.9138 - val_loss: 0.2013 - val_acc: 0.9372\n",
      "Epoch 15/50\n",
      "15/15 [==============================] - 41s 3s/step - loss: 0.1742 - acc: 0.9421 - val_loss: 0.1884 - val_acc: 0.9456\n",
      "Epoch 16/50\n",
      "15/15 [==============================] - 41s 3s/step - loss: 0.1963 - acc: 0.9279 - val_loss: 0.1797 - val_acc: 0.9414\n",
      "Epoch 17/50\n",
      "15/15 [==============================] - 40s 3s/step - loss: 0.1994 - acc: 0.9334 - val_loss: 0.1842 - val_acc: 0.9456\n",
      "Epoch 18/50\n",
      "15/15 [==============================] - 40s 3s/step - loss: 0.1575 - acc: 0.9443 - val_loss: 0.1776 - val_acc: 0.9372\n",
      "Epoch 19/50\n",
      "15/15 [==============================] - 40s 3s/step - loss: 0.1811 - acc: 0.9279 - val_loss: 0.1614 - val_acc: 0.9456\n",
      "Epoch 20/50\n",
      "15/15 [==============================] - 40s 3s/step - loss: 0.1730 - acc: 0.9367 - val_loss: 0.2026 - val_acc: 0.9289\n",
      "Epoch 21/50\n",
      "15/15 [==============================] - 40s 3s/step - loss: 0.1525 - acc: 0.9487 - val_loss: 0.1655 - val_acc: 0.9456\n",
      "Epoch 22/50\n",
      "15/15 [==============================] - 40s 3s/step - loss: 0.1411 - acc: 0.9531 - val_loss: 0.1631 - val_acc: 0.9456\n",
      "Epoch 23/50\n",
      "15/15 [==============================] - 40s 3s/step - loss: 0.1552 - acc: 0.9410 - val_loss: 0.1383 - val_acc: 0.9498\n",
      "Epoch 24/50\n",
      "15/15 [==============================] - 40s 3s/step - loss: 0.1411 - acc: 0.9367 - val_loss: 0.1475 - val_acc: 0.9372\n",
      "Epoch 25/50\n",
      "15/15 [==============================] - 39s 3s/step - loss: 0.1563 - acc: 0.9498 - val_loss: 0.1599 - val_acc: 0.9456\n",
      "Epoch 26/50\n",
      "15/15 [==============================] - 39s 3s/step - loss: 0.1403 - acc: 0.9410 - val_loss: 0.1495 - val_acc: 0.9456\n",
      "Epoch 27/50\n",
      "15/15 [==============================] - 42s 3s/step - loss: 0.1349 - acc: 0.9498 - val_loss: 0.1755 - val_acc: 0.9372\n",
      "Epoch 28/50\n",
      "15/15 [==============================] - 39s 3s/step - loss: 0.1532 - acc: 0.9443 - val_loss: 0.1868 - val_acc: 0.9456\n",
      "Epoch 29/50\n",
      "15/15 [==============================] - 38s 3s/step - loss: 0.1365 - acc: 0.9531 - val_loss: 0.1968 - val_acc: 0.9372\n",
      "Epoch 30/50\n",
      "15/15 [==============================] - 39s 3s/step - loss: 0.1366 - acc: 0.9498 - val_loss: 0.1538 - val_acc: 0.9414\n",
      "Epoch 31/50\n",
      "15/15 [==============================] - 40s 3s/step - loss: 0.1375 - acc: 0.9510 - val_loss: 0.1465 - val_acc: 0.9456\n",
      "Epoch 32/50\n",
      "15/15 [==============================] - 39s 3s/step - loss: 0.1407 - acc: 0.9552 - val_loss: 0.1611 - val_acc: 0.9498\n",
      "Epoch 33/50\n",
      "15/15 [==============================] - 40s 3s/step - loss: 0.1428 - acc: 0.9400 - val_loss: 0.1414 - val_acc: 0.9414\n",
      "Epoch 34/50\n",
      "15/15 [==============================] - 39s 3s/step - loss: 0.1071 - acc: 0.9574 - val_loss: 0.1730 - val_acc: 0.9498\n",
      "Epoch 35/50\n",
      "15/15 [==============================] - 39s 3s/step - loss: 0.1029 - acc: 0.9683 - val_loss: 0.1777 - val_acc: 0.9582\n",
      "Epoch 36/50\n",
      "15/15 [==============================] - 38s 3s/step - loss: 0.1194 - acc: 0.9498 - val_loss: 0.1645 - val_acc: 0.9498\n",
      "Epoch 37/50\n",
      "15/15 [==============================] - 39s 3s/step - loss: 0.1129 - acc: 0.9618 - val_loss: 0.1672 - val_acc: 0.9414\n",
      "Epoch 38/50\n",
      "15/15 [==============================] - 38s 3s/step - loss: 0.1264 - acc: 0.9585 - val_loss: 0.1373 - val_acc: 0.9498\n",
      "Epoch 39/50\n",
      "15/15 [==============================] - 39s 3s/step - loss: 0.1175 - acc: 0.9607 - val_loss: 0.1362 - val_acc: 0.9498\n",
      "Epoch 40/50\n",
      "15/15 [==============================] - 38s 3s/step - loss: 0.0998 - acc: 0.9629 - val_loss: 0.1472 - val_acc: 0.9582\n",
      "Epoch 41/50\n",
      "15/15 [==============================] - 40s 3s/step - loss: 0.1047 - acc: 0.9629 - val_loss: 0.1392 - val_acc: 0.9540\n",
      "Epoch 42/50\n",
      "15/15 [==============================] - 42s 3s/step - loss: 0.0989 - acc: 0.9635 - val_loss: 0.1268 - val_acc: 0.9456\n",
      "Epoch 43/50\n",
      "15/15 [==============================] - 39s 3s/step - loss: 0.1055 - acc: 0.9694 - val_loss: 0.1296 - val_acc: 0.9540\n",
      "Epoch 44/50\n",
      "15/15 [==============================] - 40s 3s/step - loss: 0.1074 - acc: 0.9662 - val_loss: 0.1732 - val_acc: 0.9414\n",
      "Epoch 45/50\n",
      "15/15 [==============================] - 39s 3s/step - loss: 0.1097 - acc: 0.9607 - val_loss: 0.1295 - val_acc: 0.9540\n",
      "Epoch 46/50\n",
      "15/15 [==============================] - 39s 3s/step - loss: 0.1017 - acc: 0.9662 - val_loss: 0.1441 - val_acc: 0.9623\n",
      "Epoch 47/50\n",
      "15/15 [==============================] - 41s 3s/step - loss: 0.0885 - acc: 0.9716 - val_loss: 0.1425 - val_acc: 0.9582\n",
      "Epoch 48/50\n",
      "15/15 [==============================] - 40s 3s/step - loss: 0.0902 - acc: 0.9760 - val_loss: 0.1302 - val_acc: 0.9540\n",
      "Epoch 49/50\n",
      "15/15 [==============================] - 39s 3s/step - loss: 0.0970 - acc: 0.9662 - val_loss: 0.1475 - val_acc: 0.9456\n",
      "Epoch 50/50\n",
      "15/15 [==============================] - 42s 3s/step - loss: 0.0771 - acc: 0.9719 - val_loss: 0.1180 - val_acc: 0.9498\n"
     ]
    }
   ],
   "source": [
    "history = model.fit( train_generator,\n",
    "                     steps_per_epoch = 15,\n",
    "                     epochs = 50,\n",
    "                     validation_data = validation_generator,\n",
    "                     validation_steps = 15 )"
   ]
  },
  {
   "cell_type": "code",
   "execution_count": 7,
   "metadata": {},
   "outputs": [
    {
     "data": {
      "image/png": "[encoded data removed]",
      "text/plain": [
       "<Figure size 432x288 with 1 Axes>"
      ]
     },
     "metadata": {
      "needs_background": "light"
     },
     "output_type": "display_data"
    },
    {
     "data": {
      "text/plain": [
       "<Figure size 432x288 with 0 Axes>"
      ]
     },
     "metadata": {},
     "output_type": "display_data"
    },
    {
     "data": {
      "image/png": "[encoded data removed]",
      "text/plain": [
       "<Figure size 432x288 with 1 Axes>"
      ]
     },
     "metadata": {
      "needs_background": "light"
     },
     "output_type": "display_data"
    },
    {
     "data": {
      "text/plain": [
       "<Figure size 432x288 with 0 Axes>"
      ]
     },
     "metadata": {},
     "output_type": "display_data"
    }
   ],
   "source": [
    "import matplotlib.pyplot as plt\n",
    "\n",
    "acc = history.history[\"acc\"]\n",
    "val_acc = history.history[\"val_acc\"]\n",
    "\n",
    "loss = history.history[\"loss\"]\n",
    "val_loss = history.history[\"val_loss\"]\n",
    "\n",
    "epochs = range(0,50)\n",
    "\n",
    "\n",
    "plt.plot(epochs, acc, \"g\", label=\"Training Accuracy\")\n",
    "plt.plot(epochs, val_acc, \"black\", label=\"Validation Accuracy\")\n",
    "plt.title(\"Training|Validation Accuracy\")\n",
    "\n",
    "plt.legend(loc=0) #sag alt\n",
    "plt.figure()\n",
    "plt.show()\n",
    "\n",
    "\n",
    "plt.plot(epochs, loss, \"r\",label=\"Training Loss\")\n",
    "plt.plot(epochs, val_loss, \"blue\",label=\"Validation Loss\")\n",
    "plt.title(\"Training|Validation Loss\")\n",
    "\n",
    "plt.legend(loc=0)\n",
    "plt.figure()\n",
    "plt.show()\n",
    "\n"
   ]
  },
  {
   "cell_type": "code",
   "execution_count": 8,
   "metadata": {},
   "outputs": [],
   "source": [
    "model.save(\"models/fire_model_yusuf.h5\")"
   ]
  },
  {
   "cell_type": "code",
   "execution_count": 5,
   "metadata": {},
   "outputs": [],
   "source": [
    "import cv2\n",
    "import numpy as np\n",
    "from keras.models import load_model"
   ]
  },
  {
   "cell_type": "code",
   "execution_count": 6,
   "metadata": {},
   "outputs": [],
   "source": [
    "model = load_model(\"models/fire_model_yusuf.h5\")\n",
    "path = \"test/test.jpg\"\n",
    "video_path = \"test/test.mp4\""
   ]
  },
  {
   "cell_type": "code",
   "execution_count": 7,
   "metadata": {},
   "outputs": [],
   "source": [
    "test_img = cv2.imread(path)\n",
    "\n",
    "img = np.asarray(test_img)\n",
    "img = cv2.resize(img, (224,224))\n",
    "\n",
    "img = img/255\n",
    "#print(img.shape)\n",
    "\n",
    "img = img.reshape(1,224,224,3)\n",
    "#print(img.shape)\n",
    "\n",
    "predictions = model.predict(img)\n",
    "pred = np.argmax(predictions[0])\n",
    "\n",
    "probability = predictions[0][pred]\n",
    "probability_ = \"% {:.2f}\".format(probability*100)\n",
    "\n",
    "if pred == 1:\n",
    "    label = \"Fire\"\n",
    "else:\n",
    "    label = \"Neutral\"\n",
    "    \n",
    "font = cv2.FONT_HERSHEY_SIMPLEX\n",
    "color = (0,255,0)\n",
    "\n",
    "cv2.putText(test_img, label, (35,60), font, 1, color, 2)\n",
    "cv2.putText(test_img, probability_, (35,100), font, 1, color, 2)\n",
    "\n",
    "cv2.imshow(\"Prediction\", test_img)\n",
    "cv2.waitKey(0)\n",
    "cv2.destroyAllWindows()"
   ]
  },
  {
   "cell_type": "code",
   "execution_count": 8,
   "metadata": {},
   "outputs": [],
   "source": [
    "cap = cv2.VideoCapture(video_path)\n",
    "\n",
    "while True:\n",
    "    ret,frame = cap.read()\n",
    "    \n",
    "    img = np.asarray(frame)\n",
    "    img = cv2.resize(img, (224,224))\n",
    "\n",
    "    img = img/255\n",
    "    #print(img.shape)\n",
    "\n",
    "    img = img.reshape(1,224,224,3)\n",
    "    #print(img.shape)\n",
    "\n",
    "    predictions = model.predict(img)\n",
    "    pred = np.argmax(predictions[0])\n",
    "\n",
    "    probability = predictions[0][pred]\n",
    "    probability_ = \"% {:.2f}\".format(probability*100)\n",
    "\n",
    "    if pred == 1:\n",
    "        label = \"Fire\"\n",
    "    else:\n",
    "        label = \"Neutral\"\n",
    "\n",
    "    font = cv2.FONT_HERSHEY_SIMPLEX\n",
    "    color = (0,255,0)\n",
    "\n",
    "    cv2.putText(frame, label, (35,60), font, 1, color, 2)\n",
    "    cv2.putText(frame, probability_, (35,100), font, 1, color, 2)\n",
    "\n",
    "    cv2.imshow(\"Prediction\", frame)\n",
    "\n",
    "    if cv2.waitKey(10) & 0xFF == ord(\"q\"):\n",
    "        break\n",
    "    \n",
    "    \n",
    "cap.release()\n",
    "cv2.destroyAllWindows()\n",
    "    \n",
    "\n"
   ]
  }
 ],
 "metadata": {
  "kernelspec": {
   "display_name": "Python 3",
   "language": "python",
   "name": "python3"
  },
  "language_info": {
   "codemirror_mode": {
    "name": "ipython",
    "version": 3
   },
   "file_extension": ".py",
   "mimetype": "text/x-python",
   "name": "python",
   "nbconvert_exporter": "python",
   "pygments_lexer": "ipython3",
   "version": "3.8.5"
  }
 },
 "nbformat": 4,
 "nbformat_minor": 5
}
